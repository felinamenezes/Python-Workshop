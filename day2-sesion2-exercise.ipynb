{
  "nbformat": 4,
  "nbformat_minor": 0,
  "metadata": {
    "colab": {
      "name": "Untitled7.ipynb",
      "provenance": [],
      "collapsed_sections": [],
      "authorship_tag": "ABX9TyPUeg/WosmNzbX1iLOmNgEr",
      "include_colab_link": true
    },
    "kernelspec": {
      "name": "python3",
      "display_name": "Python 3"
    }
  },
  "cells": [
    {
      "cell_type": "markdown",
      "metadata": {
        "id": "view-in-github",
        "colab_type": "text"
      },
      "source": [
        "<a href=\"https://colab.research.google.com/github/felinamenezes/Python-Workshop/blob/master/day2-sesion2-exercise.ipynb\" target=\"_parent\"><img src=\"https://colab.research.google.com/assets/colab-badge.svg\" alt=\"Open In Colab\"/></a>"
      ]
    },
    {
      "cell_type": "markdown",
      "metadata": {
        "id": "mqhETHAUq-6A",
        "colab_type": "text"
      },
      "source": [
        "#Add rollno and marks {name:mark} for n number of students through keyboard in a dictionary and print the marks in descending order with respective name."
      ]
    },
    {
      "cell_type": "code",
      "metadata": {
        "id": "RHBOQ8yrrDNG",
        "colab_type": "code",
        "colab": {
          "base_uri": "https://localhost:8080/",
          "height": 202
        },
        "outputId": "e43f8b00-ee6c-46a2-8c6d-4391c3f1d5f0"
      },
      "source": [
        "n=int(input(\"Enter a number students:\"))\n",
        "d={(input('Enter the name:')):(input('enter the mark:')) for x in range(1,n+1)}\n",
        "import operator\n",
        "print(\"dictionary:\")\n",
        "print(d)\n",
        "sorted_d = sorted(d.items(), key=operator.itemgetter(1))\n",
        "sorted_a= sorted(d.items(), key=operator.itemgetter(1),reverse=True)\n",
        "print(\"In descending:\")\n",
        "print(sorted_a)"
      ],
      "execution_count": 1,
      "outputs": [
        {
          "output_type": "stream",
          "text": [
            "Enter a number students:3\n",
            "enter the mark:45\n",
            "Enter the name:eng\n",
            "enter the mark:50\n",
            "Enter the name:hin\n",
            "enter the mark:46\n",
            "Enter the name:dat\n",
            "dictionary:\n",
            "{'eng': '45', 'hin': '50', 'dat': '46'}\n",
            "In descending:\n",
            "[('hin', '50'), ('dat', '46'), ('eng', '45')]\n"
          ],
          "name": "stdout"
        }
      ]
    },
    {
      "cell_type": "markdown",
      "metadata": {
        "id": "k4RhBlxcrd0V",
        "colab_type": "text"
      },
      "source": [
        "#Add name and salary {name:salary} for n number of employees through keyboard in a dictionary and print them in name alphabetical order with salary"
      ]
    },
    {
      "cell_type": "code",
      "metadata": {
        "id": "2Mr0eboJrkeS",
        "colab_type": "code",
        "colab": {
          "base_uri": "https://localhost:8080/",
          "height": 185
        },
        "outputId": "af0e3f67-4397-46d3-8bef-147a5c33c045"
      },
      "source": [
        "n=int(input(\"Enter a number Employees:\"))\n",
        "d={(input('Enter the name:')):(input('enter the salary:')) for x in range(1,n+1)}\n",
        "import operator\n",
        "print(\"dictionary:\")\n",
        "print(d)\n",
        "sorted_d = sorted(d.items(), key=operator.itemgetter(0))\n",
        "print(sorted_d)"
      ],
      "execution_count": 2,
      "outputs": [
        {
          "output_type": "stream",
          "text": [
            "Enter a number Employees:3\n",
            "enter the salary:45k\n",
            "Enter the name:rtr\n",
            "enter the salary:67k\n",
            "Enter the name:fer\n",
            "enter the salary:69k\n",
            "Enter the name:rty\n",
            "dictionary:\n",
            "{'rtr': '45k', 'fer': '67k', 'rty': '69k'}\n",
            "[('fer', '67k'), ('rtr', '45k'), ('rty', '69k')]\n"
          ],
          "name": "stdout"
        }
      ]
    },
    {
      "cell_type": "markdown",
      "metadata": {
        "id": "63g59Jovr1_Q",
        "colab_type": "text"
      },
      "source": [
        "#\n",
        "Add name and salary {name:salary} for n number of employees through keyboard in a dictionary and print them in salary ascending order and sum, max, min and average of the salaries"
      ]
    },
    {
      "cell_type": "code",
      "metadata": {
        "id": "m5gNjbP7r5QI",
        "colab_type": "code",
        "colab": {
          "base_uri": "https://localhost:8080/",
          "height": 235
        },
        "outputId": "09eba29e-4860-4e59-fa70-f7cc169a12df"
      },
      "source": [
        "n=int(input(\"Enter a number employee:\"))\n",
        "d={(input('Enter the name:')):int(input('enter the salary:')) for x in range(1,n+1)}\n",
        "import operator\n",
        "print(\"dictionary:\")\n",
        "print(d)\n",
        "sorted_d = sorted(d.items(), key=operator.itemgetter(1))\n",
        "print(\"In ascending order salary:\")\n",
        "print(sorted_d)\n",
        "print(\"sum:\",sum(d.values()))\n",
        "print(\"max:\",max(d.values()))\n",
        "print(\"min:\",min(d.values()))\n",
        "print(\"average:\",sum(d.values())/n)"
      ],
      "execution_count": 3,
      "outputs": [
        {
          "output_type": "stream",
          "text": [
            "Enter a number employee:2\n",
            "enter the salary:450000\n",
            "Enter the name:fel\n",
            "enter the salary:500000\n",
            "Enter the name:feli\n",
            "dictionary:\n",
            "{'fel': 450000, 'feli': 500000}\n",
            "In ascending order salary:\n",
            "[('fel', 450000), ('feli', 500000)]\n",
            "sum: 950000\n",
            "max: 500000\n",
            "min: 450000\n",
            "average: 475000.0\n"
          ],
          "name": "stdout"
        }
      ]
    },
    {
      "cell_type": "markdown",
      "metadata": {
        "id": "bolRasR8sLBM",
        "colab_type": "text"
      },
      "source": [
        "#\n",
        "Add name and salary {name:salary} for n number of employees through keyboard in a dictionary and print only the employees whose salary is greater than 2000 but less than 4000"
      ]
    },
    {
      "cell_type": "code",
      "metadata": {
        "id": "8_ApZWrAsRFB",
        "colab_type": "code",
        "colab": {
          "base_uri": "https://localhost:8080/",
          "height": 168
        },
        "outputId": "2f0d6bf5-1253-49a2-c703-8be390b3d28e"
      },
      "source": [
        "dict={}\n",
        "n=int(input(\"enter the no of employees\"))\n",
        "for i in range(n):\n",
        "  name=input(\"Enter the name\")\n",
        "  marks=int(input(\"Enter the salary\"))\n",
        "  dict[name]=marks\n",
        "print(dict)\n",
        "res={key:val for key, val in dict.items() if val>2000 and val<4000}\n",
        "print(res)"
      ],
      "execution_count": 4,
      "outputs": [
        {
          "output_type": "stream",
          "text": [
            "enter the no of employees3\n",
            "Enter the namefel\n",
            "Enter the salary50000\n",
            "Enter the namerew\n",
            "Enter the salary45000\n",
            "Enter the nametre\n",
            "Enter the salary34000\n",
            "{'fel': 50000, 'rew': 45000, 'tre': 34000}\n",
            "{}\n"
          ],
          "name": "stdout"
        }
      ]
    },
    {
      "cell_type": "markdown",
      "metadata": {
        "id": "Y32-wAkcsnv6",
        "colab_type": "text"
      },
      "source": [
        "#Python program to convert a 3 digit number into words¶"
      ]
    },
    {
      "cell_type": "code",
      "metadata": {
        "id": "95wG8Y5Cso7_",
        "colab_type": "code",
        "colab": {
          "base_uri": "https://localhost:8080/",
          "height": 50
        },
        "outputId": "091e71a7-9231-4bfc-e3b6-677f57e3e023"
      },
      "source": [
        "d={0:'',1:'one',2:'two',3:'three',4:'four',5:'five',6:'six',7:'seven',8:'eight',9:'nine',\\\n",
        "   10:'ten',11:'eleven',12:'twelve',13:'thirteen',14:'fourteen',15:'fifteen',16:'sixteen',\\\n",
        "   17:'seventeen',18:'eightteen',19:'nineteen',20:'twenty',30:'thirty',40:'fourty',50:'fifty',\\\n",
        "   60:'sixty',70:'seventy',80:'eighty',90:'ninty',100:'hundred',200:'twohundred',300:'threehundred',400:'fourhundred',500:'fivehundred',600:'sixhundred',700:'sevenhundred',800:'eighthundred',900:'ninehundred'}\n",
        "num=int(input(\"Enter the integer between 1 to 999:\"))\n",
        "if (num<=20):\n",
        "      print(d[num])\n",
        "if(num>20 and num<1000):\n",
        "        if num%10==0:       \n",
        "            print(d[num])\n",
        "        else:\n",
        "            print(d[num//10*10]+\" \"+d[num%10])"
      ],
      "execution_count": 5,
      "outputs": [
        {
          "output_type": "stream",
          "text": [
            "Enter the integer between 1 to 999:800\n",
            "eighthundred\n"
          ],
          "name": "stdout"
        }
      ]
    },
    {
      "cell_type": "markdown",
      "metadata": {
        "id": "Sgh3rwsHs2ax",
        "colab_type": "text"
      },
      "source": [
        "#Files Exercises\n",
        "\n",
        "Python Program to print all the numbers present in a text file with its total number of occurrence."
      ]
    },
    {
      "cell_type": "code",
      "metadata": {
        "id": "B-IUUi9cs6lc",
        "colab_type": "code",
        "colab": {}
      },
      "source": [
        "\n",
        "fname = input(\"Enter the name of the file:\")\n",
        "infile = open(fname, 'r')\n",
        "lines = 0\n",
        "words = 0\n",
        "characters = 0\n",
        "for line in infile:\n",
        "    wordslist = line.split()\n",
        "    lines = lines + 1\n",
        "    words = words + len(wordslist)\n",
        "    characters = characters + len(line)\n",
        "print(characters)"
      ],
      "execution_count": null,
      "outputs": []
    },
    {
      "cell_type": "markdown",
      "metadata": {
        "id": "cL7MUsn8tnvU",
        "colab_type": "text"
      },
      "source": [
        "#\n",
        "Python Program to print all the numbers present in a text file with its total number of occurrence"
      ]
    },
    {
      "cell_type": "code",
      "metadata": {
        "id": "F3lgYmVctzx0",
        "colab_type": "code",
        "colab": {}
      },
      "source": [
        "\n",
        "fname = input(\"Enter the name of the file:\")\n",
        "infile = open(fname, 'r')\n",
        "content = infile.readlines() \n",
        "a = 0\n",
        "for line in content: \n",
        "    for i in line:  \n",
        "        if i.isdigit() == True: \n",
        "          a=a+1\n",
        "print(\"The total numbers in a text file is:\", a)\n"
      ],
      "execution_count": null,
      "outputs": []
    },
    {
      "cell_type": "markdown",
      "metadata": {
        "id": "wFEkxl5Ct7jX",
        "colab_type": "text"
      },
      "source": [
        "#Python Program to append the contents of one file to another file"
      ]
    },
    {
      "cell_type": "code",
      "metadata": {
        "id": "kEaorREWuE_Y",
        "colab_type": "code",
        "colab": {}
      },
      "source": [
        "name1 = input(\"Enter file to be read from: \")\n",
        "name2 = input(\"Enter file to be appended to: \")\n",
        "fin = open(name1, \"r\")\n",
        "data2 = fin.read()\n",
        "fin.close()\n",
        "fout = open(name2, \"a\")\n",
        "fout.write(data2)\n",
        "fout.close()"
      ],
      "execution_count": null,
      "outputs": []
    },
    {
      "cell_type": "markdown",
      "metadata": {
        "id": "LctMznqCucBM",
        "colab_type": "text"
      },
      "source": [
        "#\n",
        "Python Program to count the number of blank spaces in a text file"
      ]
    },
    {
      "cell_type": "code",
      "metadata": {
        "id": "y1B7_oHxufxs",
        "colab_type": "code",
        "colab": {}
      },
      "source": [
        "\n",
        "fname = input(\"Enter file name: \")\n",
        "k = 0\n",
        "\n",
        "with open(fname, 'r') as f:\n",
        "    for line in f:\n",
        "        words = line.split()\n",
        "        for i in words:\n",
        "            for letter in i:\n",
        "                if(letter.isspace):\n",
        "                    k=k+1\n",
        "print(\"Occurrences of blank spaces:\")\n",
        "print(k)"
      ],
      "execution_count": null,
      "outputs": []
    },
    {
      "cell_type": "markdown",
      "metadata": {
        "id": "mgcsfGejun_J",
        "colab_type": "text"
      },
      "source": [
        "#\n",
        "\n",
        "Python Program to read a file and capitalize the first letter of every word in the file and copy the every word capitalized content into another file and read it"
      ]
    },
    {
      "cell_type": "code",
      "metadata": {
        "id": "vudadLPIuxvf",
        "colab_type": "code",
        "colab": {}
      },
      "source": [
        "fname = input(\"Enter file name: \")\n",
        "with open(fname, 'r') as f:\n",
        "    for line in f:\n",
        "        l=line.title()\n",
        "        print(l)"
      ],
      "execution_count": null,
      "outputs": []
    }
  ]
}